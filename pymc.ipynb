{
 "cells": [
  {
   "cell_type": "markdown",
   "metadata": {},
   "source": [
    "# Intro to PyMC"
   ]
  },
  {
   "cell_type": "code",
   "execution_count": null,
   "metadata": {},
   "outputs": [],
   "source": [
    "from pymc import DiscreteUniform, Exponential, deterministic, Poisson, Uniform\n",
    "import numpy as np\n",
    "import matplotlib.pyplot as plt\n",
    "plt.style.use('seaborn-talk')"
   ]
  },
  {
   "cell_type": "markdown",
   "metadata": {},
   "source": [
    "Consider the following dataset, which is a time series of recorded coal mining disasters in the UK from 1851 to 1962. \n",
    "\n",
    "Occurrences of disasters in the time series is thought to be derived from a Poisson process with a large rate parameter in the early part of the time series, and from one with a smaller rate in the later part. We are interested in locating the change point in the series, which perhaps is related to changes in mining safety regulations.\n",
    "\n",
    "We represent our conceptual model formally as a statistical model:\n",
    "\n",
    "\n",
    "$D_t$: number of disasters in year t. \n",
    "\n",
    "$r_t$: the rate parameter of the Poisson distribution of disasters in year $t$.\n",
    "\n",
    "$s$: The year in which the rate parameter changes (the switchpoint).\n",
    "\n",
    "$e$: The rate parameter before the switchpoint s.\n",
    "\n",
    "$l$: The rate parameter after the switchpoint s.\n",
    "\n",
    "\\begin{align}\n",
    "(D_t |s,e,l) \\sim Poisson(r_t)\\\\\n",
    "r_t = \\begin{cases} e & \\text{if } & t< s\\\\\n",
    "        l & \\text{if} & t \\geq s\n",
    "      \\end{cases}\n",
    "\\end{align}\n",
    "\n",
    "\\begin{align}\n",
    "s \\sim Discrete Uniform(t_l, t_h)\\\\\n",
    "e \\sim Exponential(r_e)\\\\\n",
    "l \\sim Exponential(r_l)\\\\\n",
    "\\end{align}"
   ]
  },
  {
   "cell_type": "code",
   "execution_count": null,
   "metadata": {},
   "outputs": [],
   "source": [
    "disasters_array =  np.array([ 4, 5, 4, 0, 1, 4, 3, 4, 0, 6, 3, 3, 4, 0, 2, 6,\n",
    "                   3, 3, 5, 4, 5, 3, 1, 4, 4, 1, 5, 5, 3, 4, 2, 5,\n",
    "                   2, 2, 3, 4, 2, 1, 3, 2, 2, 1, 1, 1, 1, 3, 0, 0,\n",
    "                   1, 0, 1, 1, 0, 0, 3, 1, 0, 3, 2, 2, 0, 1, 1, 1,\n",
    "                   0, 1, 0, 1, 0, 0, 0, 2, 1, 0, 0, 0, 1, 1, 0, 2,\n",
    "                   3, 3, 1, 1, 2, 1, 1, 1, 1, 2, 4, 2, 0, 0, 1, 4,\n",
    "                   0, 0, 0, 1, 0, 0, 0, 0, 0, 1, 0, 0, 1, 0, 1])\n",
    "years= np.linspace(1850, 1960, len(disasters_array))"
   ]
  },
  {
   "cell_type": "code",
   "execution_count": null,
   "metadata": {},
   "outputs": [],
   "source": [
    "plt.plot(disasters_array, 'o')\n",
    "plt.xlabel('Year')\n",
    "plt.ylabel('Number of mining disasters')\n",
    "plt.title('Mining disasters in the UK')\n",
    "plt.show()\n"
   ]
  },
  {
   "cell_type": "code",
   "execution_count": null,
   "metadata": {},
   "outputs": [],
   "source": [
    "switchpoint = DiscreteUniform('switchpoint', lower=0, upper=110, doc='Switchpoint[year]')"
   ]
  },
  {
   "cell_type": "code",
   "execution_count": null,
   "metadata": {},
   "outputs": [],
   "source": [
    "early_mean = Exponential('early_mean', beta=1.)\n",
    "late_mean = Exponential('late_mean', beta=1.)\n"
   ]
  },
  {
   "cell_type": "markdown",
   "metadata": {},
   "source": [
    "Next, we define the variable rate, which selects the early rate early_mean for times before switchpoint and the late rate late_mean for times after switchpoint. We create rate using the deterministic decorator, which converts the ordinary Python function rate into a Deterministic object.:"
   ]
  },
  {
   "cell_type": "code",
   "execution_count": null,
   "metadata": {},
   "outputs": [],
   "source": [
    "@deterministic(plot=False)\n",
    "def rate(s=switchpoint, e=early_mean, l=late_mean):\n",
    "    ''' Concatenate Poisson means '''\n",
    "    out = np.empty(len(disasters_array))\n",
    "    out[:s] = e\n",
    "    out[s:] = l\n",
    "    return out\n"
   ]
  },
  {
   "cell_type": "code",
   "execution_count": null,
   "metadata": {},
   "outputs": [],
   "source": [
    "# Define disasters: in the language of PyMC this is still a random variable, but one that we actually observed:\n",
    "disasters = Poisson('disasters', mu=rate, value=disasters_array, observed=True)\n"
   ]
  },
  {
   "cell_type": "code",
   "execution_count": null,
   "metadata": {},
   "outputs": [],
   "source": [
    "# We then use the Markov Chain Monte Carlo sampling method to fit this model. \n",
    "from pymc.examples import disaster_model\n",
    "from pymc import MCMC\n",
    "M = MCMC(disaster_model)"
   ]
  },
  {
   "cell_type": "code",
   "execution_count": null,
   "metadata": {},
   "outputs": [],
   "source": [
    "M.sample(iter=10000, burn=1000, thin=10)"
   ]
  },
  {
   "cell_type": "code",
   "execution_count": null,
   "metadata": {},
   "outputs": [],
   "source": []
  },
  {
   "cell_type": "markdown",
   "metadata": {},
   "source": [
    "## Fitting a model? \n",
    "Fitting a model means characterizing its posterior distribution somehow. In this case, we are trying to represent the posterior p(s,e,l|D) by a set of joint samples from it. To produce these samples, the MCMC sampler randomly updates the values of switchpoint, early_mean and late_mean according to the Metropolis-Hastings algorithm [Gelman2004] over a specified number of iterations (iter).\n",
    "\n",
    "As the number of samples grows sufficiently large, the MCMC distributions of switchpoint, early_mean and late_mean converge to their joint stationary distribution. In other words, their values can be considered as random draws from the posterior p(s,e,l|D). PyMC assumes that the burn parameter specifies a sufficiently large number of iterations for the algorithm to converge, so it is up to the user to verify that this is the case (see chapter Model checking and diagnostics). Consecutive values sampled from switchpoint, early_mean and late_mean are always serially dependent, since it is a Markov chain. MCMC often results in strong autocorrelation among samples that can result in imprecise posterior inference. To circumvent this, it is useful to thin the sample by only retaining every k th sample, where k\n",
    "k is an integer value. This thinning interval is passed to the sampler via the thin argument.\n",
    "\n",
    "If you are not sure ahead of time what values to choose for the burn and thin parameters, you may want to retain all the MCMC samples, that is to set burn=0 and thin=1, and then discard the burn-in period and thin the samples after examining the traces (the series of samples). See [Gelman2004] for general guidance.\n",
    "\n"
   ]
  },
  {
   "cell_type": "code",
   "execution_count": null,
   "metadata": {},
   "outputs": [],
   "source": [
    "# Accessing the samples\n",
    "M.trace('switchpoint')[:5]"
   ]
  },
  {
   "cell_type": "code",
   "execution_count": null,
   "metadata": {},
   "outputs": [],
   "source": [
    "plt.hist(M.trace('late_mean')[:])\n",
    "plt.show()"
   ]
  },
  {
   "cell_type": "code",
   "execution_count": null,
   "metadata": {},
   "outputs": [],
   "source": [
    "# PyMC has its own plotting  functionality too: \n",
    "from pymc.Matplot import plot\n",
    "plot(M)\n",
    "plt.show()"
   ]
  },
  {
   "cell_type": "markdown",
   "metadata": {},
   "source": [
    "The upper left-hand pane of these figures shows the temporal series of the samples from switchpoint, while below is an autocorrelation plot of the samples. The right-hand pane shows a histogram of the trace. The trace is useful for evaluating and diagnosing the algorithm’s performance (see [Gelman1996]), while the histogram is useful for visualizing the posterior."
   ]
  },
  {
   "cell_type": "code",
   "execution_count": null,
   "metadata": {},
   "outputs": [],
   "source": [
    " "
   ]
  },
  {
   "cell_type": "code",
   "execution_count": null,
   "metadata": {},
   "outputs": [],
   "source": []
  },
  {
   "cell_type": "code",
   "execution_count": null,
   "metadata": {},
   "outputs": [],
   "source": []
  },
  {
   "cell_type": "code",
   "execution_count": null,
   "metadata": {},
   "outputs": [],
   "source": []
  }
 ],
 "metadata": {
  "kernelspec": {
   "display_name": "Python 3",
   "language": "python",
   "name": "python3"
  },
  "language_info": {
   "codemirror_mode": {
    "name": "ipython",
    "version": 3
   },
   "file_extension": ".py",
   "mimetype": "text/x-python",
   "name": "python",
   "nbconvert_exporter": "python",
   "pygments_lexer": "ipython3"
  }
 },
 "nbformat": 4,
 "nbformat_minor": 2
}
